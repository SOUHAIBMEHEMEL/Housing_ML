{
 "cells": [
  {
   "cell_type": "code",
   "execution_count": 36,
   "metadata": {},
   "outputs": [],
   "source": [
    "#import dataset\n",
    "f = open('housing.txt', 'r')\n",
    "rows = []\n",
    "for line in f:\n",
    "    # Split on any whitespace (including tab characters)\n",
    "    row = line.split()\n",
    "    # Convert strings to numeric values:\n",
    "    for i in range(14):\n",
    "        row[i]=float(row[i])\n",
    "    # Append to our list of lists:\n",
    "    rows.append(row)\n",
    "#show dataset\n",
    "#print (rows)\n",
    "\n",
    "#construct our dataframe\n",
    "import numpy\n",
    "a = numpy.asarray(rows)\n",
    "numpy.savetxt(\"housing_data.csv\", a, delimiter=\",\")"
   ]
  },
  {
   "cell_type": "code",
   "execution_count": 37,
   "metadata": {},
   "outputs": [
    {
     "name": "stdout",
     "output_type": "stream",
     "text": [
      "+-------+----+----+---+-----+-----+-----+------+---+-----+----+------+-----+----+\n",
      "|    _c0| _c1| _c2|_c3|  _c4|  _c5|  _c6|   _c7|_c8|  _c9|_c10|  _c11| _c12|_c13|\n",
      "+-------+----+----+---+-----+-----+-----+------+---+-----+----+------+-----+----+\n",
      "|0.00632|18.0|2.31|0.0|0.538|6.575| 65.2|  4.09|1.0|296.0|15.3| 396.9| 4.98|24.0|\n",
      "|0.02731| 0.0|7.07|0.0|0.469|6.421| 78.9|4.9671|2.0|242.0|17.8| 396.9| 9.14|21.6|\n",
      "|0.02729| 0.0|7.07|0.0|0.469|7.185| 61.1|4.9671|2.0|242.0|17.8|392.83| 4.03|34.7|\n",
      "|0.03237| 0.0|2.18|0.0|0.458|6.998| 45.8|6.0622|3.0|222.0|18.7|394.63| 2.94|33.4|\n",
      "|0.06905| 0.0|2.18|0.0|0.458|7.147| 54.2|6.0622|3.0|222.0|18.7| 396.9| 5.33|36.2|\n",
      "|0.02985| 0.0|2.18|0.0|0.458| 6.43| 58.7|6.0622|3.0|222.0|18.7|394.12| 5.21|28.7|\n",
      "|0.08829|12.5|7.87|0.0|0.524|6.012| 66.6|5.5605|5.0|311.0|15.2| 395.6|12.43|22.9|\n",
      "|0.14455|12.5|7.87|0.0|0.524|6.172| 96.1|5.9505|5.0|311.0|15.2| 396.9|19.15|27.1|\n",
      "|0.21124|12.5|7.87|0.0|0.524|5.631|100.0|6.0821|5.0|311.0|15.2|386.63|29.93|16.5|\n",
      "|0.17004|12.5|7.87|0.0|0.524|6.004| 85.9|6.5921|5.0|311.0|15.2|386.71| 17.1|18.9|\n",
      "+-------+----+----+---+-----+-----+-----+------+---+-----+----+------+-----+----+\n",
      "only showing top 10 rows\n",
      "\n"
     ]
    }
   ],
   "source": [
    "import findspark\n",
    "findspark.init()\n",
    "#import modules\n",
    "from pyspark.sql import SparkSession\n",
    "\n",
    "#create session\n",
    "appName = \"TP_test\"\n",
    "spark = SparkSession \\\n",
    "    .builder \\\n",
    "    .appName(appName) \\\n",
    "    .config(\"spark.some.config.option\", \"some-value\") \\\n",
    "    .getOrCreate()\n",
    "\n",
    "#lire dataset\n",
    "data = spark.read.csv(\n",
    "    'housing_data.csv', inferSchema=True, header=False)\n",
    "data.show(10)"
   ]
  },
  {
   "cell_type": "code",
   "execution_count": null,
   "metadata": {},
   "outputs": [],
   "source": []
  },
  {
   "cell_type": "code",
   "execution_count": null,
   "metadata": {},
   "outputs": [],
   "source": []
  }
 ],
 "metadata": {
  "kernelspec": {
   "display_name": "Python 3",
   "language": "python",
   "name": "python3"
  },
  "language_info": {
   "codemirror_mode": {
    "name": "ipython",
    "version": 3
   },
   "file_extension": ".py",
   "mimetype": "text/x-python",
   "name": "python",
   "nbconvert_exporter": "python",
   "pygments_lexer": "ipython3",
   "version": "3.8.0"
  }
 },
 "nbformat": 4,
 "nbformat_minor": 4
}
