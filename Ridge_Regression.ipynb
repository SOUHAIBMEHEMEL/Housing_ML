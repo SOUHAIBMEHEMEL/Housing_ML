{
 "cells": [
  {
   "cell_type": "code",
   "execution_count": 1,
   "metadata": {},
   "outputs": [],
   "source": [
    "import findspark\n",
    "findspark.init()\n",
    "from __future__ import print_function\n",
    "\n",
    "from pyspark import SparkContext\n",
    "from pyspark.mllib.regression import LabeledPoint,RidgeRegressionWithSGD\n",
    "\n",
    "\n",
    "sc = SparkContext(appName=\"Ridge_Regression_Initial_Dataset\")\n",
    "\n",
    "# Load the dataset\n",
    "def parsePoint_1(line):\n",
    "    values = [float(x) for x in line.replace(',', ' ').split(' ')]\n",
    "    return LabeledPoint(values[10], values[0:9])\n",
    "\n",
    "data = sc.textFile(\"C:/Users/MAS/Desktop/Housing_ML/housing_data_cleaned.csv\")\n",
    "parsedData = data.map(parsePoint_1)\n",
    "\n",
    "# Build the model\n",
    "model = RidgeRegressionWithSGD.train(parsedData, iterations=100, step=0.00000001)"
   ]
  },
  {
   "cell_type": "code",
   "execution_count": 2,
   "metadata": {
    "scrolled": true
   },
   "outputs": [
    {
     "name": "stdout",
     "output_type": "stream",
     "text": [
      "Mean Squared Error = 210.2529818429872\n"
     ]
    }
   ],
   "source": [
    "# Evaluate the model on training data\n",
    "valuesAndPreds = parsedData.map(lambda p: (p.label, model.predict(p.features)))\n",
    "MSE = valuesAndPreds \\\n",
    "    .map(lambda vp: (1/505)*(vp[0] - vp[1])**2) \\\n",
    "    .reduce(lambda x, y: x + y)\n",
    "print(\"Mean Squared Error = \" + str(MSE))"
   ]
  },
  {
   "cell_type": "markdown",
   "metadata": {},
   "source": []
  },
  {
   "cell_type": "code",
   "execution_count": null,
   "metadata": {},
   "outputs": [],
   "source": [
    "from pyspark.ml.tuning import CrossValidator, ParamGridBuilder\n",
    "crossval = CrossValidator(estimator=pipeline,\n",
    "                          estimatorParamMaps=paramGrid,\n",
    "                          evaluator=RegressionEvaluator())\n",
    "cvModel = crossval.fit(data)"
   ]
  },
  {
   "cell_type": "code",
   "execution_count": null,
   "metadata": {},
   "outputs": [],
   "source": []
  }
 ],
 "metadata": {
  "kernelspec": {
   "display_name": "Python 3",
   "language": "python",
   "name": "python3"
  },
  "language_info": {
   "codemirror_mode": {
    "name": "ipython",
    "version": 3
   },
   "file_extension": ".py",
   "mimetype": "text/x-python",
   "name": "python",
   "nbconvert_exporter": "python",
   "pygments_lexer": "ipython3",
   "version": "3.8.0"
  }
 },
 "nbformat": 4,
 "nbformat_minor": 4
}
